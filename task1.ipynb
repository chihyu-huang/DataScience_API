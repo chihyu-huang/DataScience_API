{
 "cells": [
  {
   "cell_type": "markdown",
   "id": "98676ebb",
   "metadata": {},
   "source": [
    "# Assignment 1 - Task 1"
   ]
  },
  {
   "cell_type": "code",
   "execution_count": 1,
   "id": "3ea632f7",
   "metadata": {},
   "outputs": [],
   "source": [
    "import json, requests, urllib\n",
    "from pathlib import Path\n",
    "from datetime import datetime\n",
    "import pandas as pd\n",
    "import matplotlib\n",
    "import matplotlib.pyplot as plt\n",
    "%matplotlib inline"
   ]
  },
  {
   "cell_type": "markdown",
   "id": "47413908",
   "metadata": {},
   "source": [
    "I'm getting data of the electricity related data from 4 states in USA selling to customer from year 2001 to 2022"
   ]
  },
  {
   "cell_type": "code",
   "execution_count": 2,
   "id": "b7f776c6",
   "metadata": {},
   "outputs": [],
   "source": [
    "api_key = \"XXXXXXXXXXX\"\n",
    "# Prefix for API URLs\n",
    "api_prefix = \"https://api.eia.gov/v2/electricity/retail-sales/data/\"\n",
    "# The states that we would like to study\n",
    "state_names = [\"California\", \"Florida\", \"Illinois\", \"Minnesota\"]\n",
    "# The state IDs for these cities, for disambiguation purposes\n",
    "state_ids = {\"California\":\"CA\", \"Florida\":\"FL\", \"Illinois\":\"IL\", \"Minnesota\":\"MN\"}"
   ]
  },
  {
   "cell_type": "markdown",
   "id": "c390256c",
   "metadata": {},
   "source": [
    "Create directory for raw data storage, if it does not already exist:"
   ]
  },
  {
   "cell_type": "code",
   "execution_count": 3,
   "id": "bcf93c2b",
   "metadata": {},
   "outputs": [],
   "source": [
    "dir_raw = Path(\"raw4\")\n",
    "dir_raw.mkdir(parents=True, exist_ok=True)"
   ]
  },
  {
   "cell_type": "markdown",
   "id": "c1e616f5",
   "metadata": {},
   "source": [
    "## Data Collection\n",
    "Define a fetch function to retrieve data from EAI API"
   ]
  },
  {
   "cell_type": "code",
   "execution_count": 65,
   "id": "ff8ffa1c",
   "metadata": {},
   "outputs": [],
   "source": [
    "# endpoint = \"?frequency=annual&data[0]=customers&data[1]=price&data[2]=revenue&data[3]=sales&facets[stateid][]\"\n",
    "# endpoint2 = \"&start=2001&end=2022&sort[0][column]=period&sort[0][direction]=asc&offset=0&length=5000\""
   ]
  },
  {
   "cell_type": "code",
   "execution_count": 79,
   "id": "ecc34c4f",
   "metadata": {},
   "outputs": [],
   "source": [
    "# raw2\n",
    "# endpoint = \"?frequency=quarterly&data[0]=customers&data[1]=price&data[2]=revenue&data[3]=sales&facets[stateid][]\"\n",
    "# endpoint2 = \"&start=2001-Q1&end=2021-Q4&sort[0][column]=period&sort[0][direction]=asc&offset=0&length=5000\""
   ]
  },
  {
   "cell_type": "code",
   "execution_count": 83,
   "id": "1e7267a2",
   "metadata": {},
   "outputs": [],
   "source": [
    "# raw3\n",
    "endpoint = \"?frequency=monthly&data[0]=customers&data[1]=price&data[2]=revenue&data[3]=sales&facets[stateid][]\"\n",
    "endpoint2 = \"&start=2011-01&end=2021-12&sort[0][column]=period&sort[0][direction]=asc&offset=0&length=5000\""
   ]
  },
  {
   "cell_type": "code",
   "execution_count": 9,
   "id": "017e4d1a",
   "metadata": {},
   "outputs": [],
   "source": [
    "# raw4\n",
    "endpoint = \"?frequency=monthly&data[0]=customers&data[1]=price&data[2]=revenue&data[3]=sales&facets[stateid][]\"\n",
    "endpoint2 = \"&start=2006-01&end=2021-12&sort[0][column]=period&sort[0][direction]=asc&offset=0&length=5000\""
   ]
  },
  {
   "cell_type": "code",
   "execution_count": 10,
   "id": "ed052ae3",
   "metadata": {},
   "outputs": [],
   "source": [
    "def fetch(endpoint, endpoint2, apikey, params={}):\n",
    "    # construct the url\n",
    "    url = api_prefix\n",
    "    if not endpoint.startswith(\"/\"):\n",
    "        url += \"/\"\n",
    "    url += endpoint \n",
    "    (api_prefix, endpoint)\n",
    "#     params[\"apikey\"] = api_key\n",
    "    url += urllib.parse.urlencode(params) + endpoint2 + apikey\n",
    "    print(\"Fetching data for %s: %s\" % (urllib.parse.urlencode(params), url))\n",
    "    # fetch the page\n",
    "    response = requests.get(url)\n",
    "    jdata = response.text\n",
    "    return json.loads(jdata)"
   ]
  },
  {
   "cell_type": "markdown",
   "id": "912be952",
   "metadata": {},
   "source": [
    "Make sure the fetch function works well, we can click the link to see if it's valid."
   ]
  },
  {
   "cell_type": "code",
   "execution_count": 11,
   "id": "50c973a2",
   "metadata": {
    "scrolled": true
   },
   "outputs": [],
   "source": [
    "# for state_id in state_ids.values():\n",
    "#     state_data = fetch(endpoint, endpoint2, \"&api_key=\" + api_key , {\"\":state_id})"
   ]
  },
  {
   "cell_type": "markdown",
   "id": "6ac5ed88",
   "metadata": {},
   "source": [
    "Create a function \"store_data\" to save the json file in specific name and into an assign path "
   ]
  },
  {
   "cell_type": "code",
   "execution_count": 12,
   "id": "6e002a54",
   "metadata": {},
   "outputs": [],
   "source": [
    "def store_data(name):\n",
    "    conditions_data = state_data = fetch(endpoint, endpoint2, \"&api_key=\" + api_key , {\"\":state_id})\n",
    "    fname = \"%s.json\" % (name)\n",
    "    outpath = dir_raw / fname\n",
    "    print(\"Writing data to %s\" % outpath)\n",
    "    fout = open(outpath, \"w\")\n",
    "    json.dump(conditions_data, fout, indent=4, sort_keys=True)\n",
    "    fout.close()"
   ]
  },
  {
   "cell_type": "code",
   "execution_count": 13,
   "id": "7fed9cb0",
   "metadata": {},
   "outputs": [
    {
     "name": "stdout",
     "output_type": "stream",
     "text": [
      "Fetching data for =CA: https://api.eia.gov/v2/electricity/retail-sales/data//?frequency=monthly&data[0]=customers&data[1]=price&data[2]=revenue&data[3]=sales&facets[stateid][]=CA&start=2006-01&end=2021-12&sort[0][column]=period&sort[0][direction]=asc&offset=0&length=5000&api_key=XXXXX\n",
      "Writing data to raw4/CA.json\n",
      "Fetching data for =FL: https://api.eia.gov/v2/electricity/retail-sales/data//?frequency=monthly&data[0]=customers&data[1]=price&data[2]=revenue&data[3]=sales&facets[stateid][]=FL&start=2006-01&end=2021-12&sort[0][column]=period&sort[0][direction]=asc&offset=0&length=5000&api_key=XXXXX\n",
      "Writing data to raw4/FL.json\n",
      "Fetching data for =IL: https://api.eia.gov/v2/electricity/retail-sales/data//?frequency=monthly&data[0]=customers&data[1]=price&data[2]=revenue&data[3]=sales&facets[stateid][]=IL&start=2006-01&end=2021-12&sort[0][column]=period&sort[0][direction]=asc&offset=0&length=5000&api_key=XXXXX\n",
      "Writing data to raw4/IL.json\n",
      "Fetching data for =MN: https://api.eia.gov/v2/electricity/retail-sales/data//?frequency=monthly&data[0]=customers&data[1]=price&data[2]=revenue&data[3]=sales&facets[stateid][]=MN&start=2006-01&end=2021-12&sort[0][column]=period&sort[0][direction]=asc&offset=0&length=5000&api_key=XXXXX\n",
      "Writing data to raw4/MN.json\n"
     ]
    }
   ],
   "source": [
    "for state_id in state_ids.values():\n",
    "    store_data(state_id)"
   ]
  },
  {
   "cell_type": "code",
   "execution_count": null,
   "id": "493e0dfc",
   "metadata": {},
   "outputs": [],
   "source": []
  }
 ],
 "metadata": {
  "kernelspec": {
   "display_name": "Python 3 (ipykernel)",
   "language": "python",
   "name": "python3"
  },
  "language_info": {
   "codemirror_mode": {
    "name": "ipython",
    "version": 3
   },
   "file_extension": ".py",
   "mimetype": "text/x-python",
   "name": "python",
   "nbconvert_exporter": "python",
   "pygments_lexer": "ipython3",
   "version": "3.9.12"
  }
 },
 "nbformat": 4,
 "nbformat_minor": 5
}
